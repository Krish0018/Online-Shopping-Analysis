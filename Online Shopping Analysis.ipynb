{
 "cells": [
  {
   "cell_type": "code",
   "execution_count": 1,
   "id": "10f7acaa-79d7-4adb-9008-dacc0b63ac9e",
   "metadata": {},
   "outputs": [],
   "source": [
    "#import libraries\n",
    "import pandas as pd\n",
    "import numpy as np\n",
    "import matplotlib.pyplot as plt\n",
    "import seaborn as sns"
   ]
  },
  {
   "cell_type": "code",
   "execution_count": 2,
   "id": "5361b409-347a-4ee0-b60b-c681c113d03d",
   "metadata": {},
   "outputs": [
    {
     "data": {
      "text/html": [
       "<div>\n",
       "<style scoped>\n",
       "    .dataframe tbody tr th:only-of-type {\n",
       "        vertical-align: middle;\n",
       "    }\n",
       "\n",
       "    .dataframe tbody tr th {\n",
       "        vertical-align: top;\n",
       "    }\n",
       "\n",
       "    .dataframe thead th {\n",
       "        text-align: right;\n",
       "    }\n",
       "</style>\n",
       "<table border=\"1\" class=\"dataframe\">\n",
       "  <thead>\n",
       "    <tr style=\"text-align: right;\">\n",
       "      <th></th>\n",
       "      <th>Question</th>\n",
       "      <th>Segment Type</th>\n",
       "      <th>Segment Description</th>\n",
       "      <th>Answer</th>\n",
       "      <th>Count</th>\n",
       "      <th>Percentage</th>\n",
       "    </tr>\n",
       "  </thead>\n",
       "  <tbody>\n",
       "    <tr>\n",
       "      <th>0</th>\n",
       "      <td>What social platform has influenced your onlin...</td>\n",
       "      <td>Mobile</td>\n",
       "      <td>Global results</td>\n",
       "      <td>Facebook</td>\n",
       "      <td>548</td>\n",
       "      <td>0.205</td>\n",
       "    </tr>\n",
       "    <tr>\n",
       "      <th>1</th>\n",
       "      <td>What social platform has influenced your onlin...</td>\n",
       "      <td>Mobile</td>\n",
       "      <td>Global results</td>\n",
       "      <td>Instagram</td>\n",
       "      <td>916</td>\n",
       "      <td>0.342</td>\n",
       "    </tr>\n",
       "    <tr>\n",
       "      <th>2</th>\n",
       "      <td>What social platform has influenced your onlin...</td>\n",
       "      <td>Mobile</td>\n",
       "      <td>Global results</td>\n",
       "      <td>Snapchat</td>\n",
       "      <td>86</td>\n",
       "      <td>0.032</td>\n",
       "    </tr>\n",
       "    <tr>\n",
       "      <th>3</th>\n",
       "      <td>What social platform has influenced your onlin...</td>\n",
       "      <td>Mobile</td>\n",
       "      <td>Global results</td>\n",
       "      <td>Twitter</td>\n",
       "      <td>179</td>\n",
       "      <td>0.067</td>\n",
       "    </tr>\n",
       "    <tr>\n",
       "      <th>4</th>\n",
       "      <td>What social platform has influenced your onlin...</td>\n",
       "      <td>Mobile</td>\n",
       "      <td>Global results</td>\n",
       "      <td>NaN</td>\n",
       "      <td>947</td>\n",
       "      <td>0.354</td>\n",
       "    </tr>\n",
       "  </tbody>\n",
       "</table>\n",
       "</div>"
      ],
      "text/plain": [
       "                                            Question Segment Type  \\\n",
       "0  What social platform has influenced your onlin...       Mobile   \n",
       "1  What social platform has influenced your onlin...       Mobile   \n",
       "2  What social platform has influenced your onlin...       Mobile   \n",
       "3  What social platform has influenced your onlin...       Mobile   \n",
       "4  What social platform has influenced your onlin...       Mobile   \n",
       "\n",
       "  Segment Description     Answer  Count  Percentage  \n",
       "0      Global results   Facebook    548       0.205  \n",
       "1      Global results  Instagram    916       0.342  \n",
       "2      Global results   Snapchat     86       0.032  \n",
       "3      Global results    Twitter    179       0.067  \n",
       "4      Global results        NaN    947       0.354  "
      ]
     },
     "execution_count": 2,
     "metadata": {},
     "output_type": "execute_result"
    }
   ],
   "source": [
    "#loading data\n",
    "df = pd.read_csv('WhatsgoodlyData-6.csv')\n",
    "df.head()"
   ]
  },
  {
   "cell_type": "code",
   "execution_count": 3,
   "id": "81c5125b-4ab1-43f7-bf0a-2ed728436aa4",
   "metadata": {},
   "outputs": [
    {
     "name": "stdout",
     "output_type": "stream",
     "text": [
      "<class 'pandas.core.frame.DataFrame'>\n",
      "RangeIndex: 1450 entries, 0 to 1449\n",
      "Data columns (total 6 columns):\n",
      " #   Column               Non-Null Count  Dtype  \n",
      "---  ------               --------------  -----  \n",
      " 0   Question             1450 non-null   object \n",
      " 1   Segment Type         1450 non-null   object \n",
      " 2   Segment Description  1450 non-null   object \n",
      " 3   Answer               1160 non-null   object \n",
      " 4   Count                1450 non-null   int64  \n",
      " 5   Percentage           1450 non-null   float64\n",
      "dtypes: float64(1), int64(1), object(4)\n",
      "memory usage: 68.1+ KB\n"
     ]
    }
   ],
   "source": [
    "df.info()"
   ]
  },
  {
   "cell_type": "code",
   "execution_count": 4,
   "id": "2d2da482-977b-4feb-8150-7a03d4d4245f",
   "metadata": {},
   "outputs": [
    {
     "data": {
      "text/plain": [
       "Question               0.0\n",
       "Segment Type           0.0\n",
       "Segment Description    0.0\n",
       "Answer                 0.2\n",
       "Count                  0.0\n",
       "Percentage             0.0\n",
       "dtype: float64"
      ]
     },
     "execution_count": 4,
     "metadata": {},
     "output_type": "execute_result"
    }
   ],
   "source": [
    "#checking the null value\n",
    "df.isna().sum()/len(df)"
   ]
  },
  {
   "cell_type": "code",
   "execution_count": 5,
   "id": "17e8d5de-0066-4350-b412-3b297700965d",
   "metadata": {},
   "outputs": [],
   "source": [
    "#fill null values\n",
    "df['Answer'] = df['Answer'].fillna('Unknown')"
   ]
  },
  {
   "cell_type": "code",
   "execution_count": 6,
   "id": "7a9371ed-31e5-4115-940f-26b6b8b57e26",
   "metadata": {},
   "outputs": [
    {
     "data": {
      "text/plain": [
       "Question               0.0\n",
       "Segment Type           0.0\n",
       "Segment Description    0.0\n",
       "Answer                 0.0\n",
       "Count                  0.0\n",
       "Percentage             0.0\n",
       "dtype: float64"
      ]
     },
     "execution_count": 6,
     "metadata": {},
     "output_type": "execute_result"
    }
   ],
   "source": [
    "df.isna().sum()/len(df)"
   ]
  },
  {
   "cell_type": "code",
   "execution_count": 7,
   "id": "51942909-085e-4aec-ac74-38c60c6fa7c7",
   "metadata": {},
   "outputs": [
    {
     "data": {
      "text/html": [
       "<div>\n",
       "<style scoped>\n",
       "    .dataframe tbody tr th:only-of-type {\n",
       "        vertical-align: middle;\n",
       "    }\n",
       "\n",
       "    .dataframe tbody tr th {\n",
       "        vertical-align: top;\n",
       "    }\n",
       "\n",
       "    .dataframe thead th {\n",
       "        text-align: right;\n",
       "    }\n",
       "</style>\n",
       "<table border=\"1\" class=\"dataframe\">\n",
       "  <thead>\n",
       "    <tr style=\"text-align: right;\">\n",
       "      <th></th>\n",
       "      <th>Question</th>\n",
       "      <th>Segment Type</th>\n",
       "      <th>Segment Description</th>\n",
       "      <th>Answer</th>\n",
       "      <th>Count</th>\n",
       "      <th>Percentage</th>\n",
       "    </tr>\n",
       "  </thead>\n",
       "  <tbody>\n",
       "    <tr>\n",
       "      <th>0</th>\n",
       "      <td>What social platform has influenced your onlin...</td>\n",
       "      <td>Mobile</td>\n",
       "      <td>Global results</td>\n",
       "      <td>Facebook</td>\n",
       "      <td>548</td>\n",
       "      <td>0.205</td>\n",
       "    </tr>\n",
       "    <tr>\n",
       "      <th>1</th>\n",
       "      <td>What social platform has influenced your onlin...</td>\n",
       "      <td>Mobile</td>\n",
       "      <td>Global results</td>\n",
       "      <td>Instagram</td>\n",
       "      <td>916</td>\n",
       "      <td>0.342</td>\n",
       "    </tr>\n",
       "    <tr>\n",
       "      <th>2</th>\n",
       "      <td>What social platform has influenced your onlin...</td>\n",
       "      <td>Mobile</td>\n",
       "      <td>Global results</td>\n",
       "      <td>Snapchat</td>\n",
       "      <td>86</td>\n",
       "      <td>0.032</td>\n",
       "    </tr>\n",
       "    <tr>\n",
       "      <th>3</th>\n",
       "      <td>What social platform has influenced your onlin...</td>\n",
       "      <td>Mobile</td>\n",
       "      <td>Global results</td>\n",
       "      <td>Twitter</td>\n",
       "      <td>179</td>\n",
       "      <td>0.067</td>\n",
       "    </tr>\n",
       "    <tr>\n",
       "      <th>4</th>\n",
       "      <td>What social platform has influenced your onlin...</td>\n",
       "      <td>Mobile</td>\n",
       "      <td>Global results</td>\n",
       "      <td>Unknown</td>\n",
       "      <td>947</td>\n",
       "      <td>0.354</td>\n",
       "    </tr>\n",
       "    <tr>\n",
       "      <th>...</th>\n",
       "      <td>...</td>\n",
       "      <td>...</td>\n",
       "      <td>...</td>\n",
       "      <td>...</td>\n",
       "      <td>...</td>\n",
       "      <td>...</td>\n",
       "    </tr>\n",
       "    <tr>\n",
       "      <th>1445</th>\n",
       "      <td>What social platform has influenced your onlin...</td>\n",
       "      <td>Custom</td>\n",
       "      <td>Sexual orientation? Straight</td>\n",
       "      <td>Facebook</td>\n",
       "      <td>215</td>\n",
       "      <td>0.180</td>\n",
       "    </tr>\n",
       "    <tr>\n",
       "      <th>1446</th>\n",
       "      <td>What social platform has influenced your onlin...</td>\n",
       "      <td>Custom</td>\n",
       "      <td>Sexual orientation? Straight</td>\n",
       "      <td>Instagram</td>\n",
       "      <td>354</td>\n",
       "      <td>0.297</td>\n",
       "    </tr>\n",
       "    <tr>\n",
       "      <th>1447</th>\n",
       "      <td>What social platform has influenced your onlin...</td>\n",
       "      <td>Custom</td>\n",
       "      <td>Sexual orientation? Straight</td>\n",
       "      <td>Snapchat</td>\n",
       "      <td>44</td>\n",
       "      <td>0.037</td>\n",
       "    </tr>\n",
       "    <tr>\n",
       "      <th>1448</th>\n",
       "      <td>What social platform has influenced your onlin...</td>\n",
       "      <td>Custom</td>\n",
       "      <td>Sexual orientation? Straight</td>\n",
       "      <td>Twitter</td>\n",
       "      <td>88</td>\n",
       "      <td>0.074</td>\n",
       "    </tr>\n",
       "    <tr>\n",
       "      <th>1449</th>\n",
       "      <td>What social platform has influenced your onlin...</td>\n",
       "      <td>Custom</td>\n",
       "      <td>Sexual orientation? Straight</td>\n",
       "      <td>Unknown</td>\n",
       "      <td>492</td>\n",
       "      <td>0.412</td>\n",
       "    </tr>\n",
       "  </tbody>\n",
       "</table>\n",
       "<p>1450 rows × 6 columns</p>\n",
       "</div>"
      ],
      "text/plain": [
       "                                               Question Segment Type  \\\n",
       "0     What social platform has influenced your onlin...       Mobile   \n",
       "1     What social platform has influenced your onlin...       Mobile   \n",
       "2     What social platform has influenced your onlin...       Mobile   \n",
       "3     What social platform has influenced your onlin...       Mobile   \n",
       "4     What social platform has influenced your onlin...       Mobile   \n",
       "...                                                 ...          ...   \n",
       "1445  What social platform has influenced your onlin...       Custom   \n",
       "1446  What social platform has influenced your onlin...       Custom   \n",
       "1447  What social platform has influenced your onlin...       Custom   \n",
       "1448  What social platform has influenced your onlin...       Custom   \n",
       "1449  What social platform has influenced your onlin...       Custom   \n",
       "\n",
       "               Segment Description     Answer  Count  Percentage  \n",
       "0                   Global results   Facebook    548       0.205  \n",
       "1                   Global results  Instagram    916       0.342  \n",
       "2                   Global results   Snapchat     86       0.032  \n",
       "3                   Global results    Twitter    179       0.067  \n",
       "4                   Global results    Unknown    947       0.354  \n",
       "...                            ...        ...    ...         ...  \n",
       "1445  Sexual orientation? Straight   Facebook    215       0.180  \n",
       "1446  Sexual orientation? Straight  Instagram    354       0.297  \n",
       "1447  Sexual orientation? Straight   Snapchat     44       0.037  \n",
       "1448  Sexual orientation? Straight    Twitter     88       0.074  \n",
       "1449  Sexual orientation? Straight    Unknown    492       0.412  \n",
       "\n",
       "[1450 rows x 6 columns]"
      ]
     },
     "execution_count": 7,
     "metadata": {},
     "output_type": "execute_result"
    }
   ],
   "source": [
    "df"
   ]
  },
  {
   "cell_type": "markdown",
   "id": "8f14d4dc-482d-467e-9e22-c139200b23ac",
   "metadata": {},
   "source": [
    "# Analysis"
   ]
  },
  {
   "cell_type": "markdown",
   "id": "ae90a7f5-0834-4dd3-8848-19ac992d7f2d",
   "metadata": {},
   "source": [
    "### What is the overall percentage distribution of social platforms influencing online shopping for both mobile and web users?"
   ]
  },
  {
   "cell_type": "code",
   "execution_count": 8,
   "id": "a21d2743-cf53-4930-84e0-b8392b2f4b77",
   "metadata": {},
   "outputs": [
    {
     "data": {
      "text/html": [
       "<div>\n",
       "<style scoped>\n",
       "    .dataframe tbody tr th:only-of-type {\n",
       "        vertical-align: middle;\n",
       "    }\n",
       "\n",
       "    .dataframe tbody tr th {\n",
       "        vertical-align: top;\n",
       "    }\n",
       "\n",
       "    .dataframe thead th {\n",
       "        text-align: right;\n",
       "    }\n",
       "</style>\n",
       "<table border=\"1\" class=\"dataframe\">\n",
       "  <thead>\n",
       "    <tr style=\"text-align: right;\">\n",
       "      <th></th>\n",
       "      <th>Question</th>\n",
       "      <th>Segment Type</th>\n",
       "      <th>Segment Description</th>\n",
       "      <th>Answer</th>\n",
       "      <th>Count</th>\n",
       "      <th>Percentage</th>\n",
       "    </tr>\n",
       "  </thead>\n",
       "  <tbody>\n",
       "    <tr>\n",
       "      <th>0</th>\n",
       "      <td>What social platform has influenced your onlin...</td>\n",
       "      <td>Mobile</td>\n",
       "      <td>Global results</td>\n",
       "      <td>Facebook</td>\n",
       "      <td>548</td>\n",
       "      <td>0.205</td>\n",
       "    </tr>\n",
       "    <tr>\n",
       "      <th>1</th>\n",
       "      <td>What social platform has influenced your onlin...</td>\n",
       "      <td>Mobile</td>\n",
       "      <td>Global results</td>\n",
       "      <td>Instagram</td>\n",
       "      <td>916</td>\n",
       "      <td>0.342</td>\n",
       "    </tr>\n",
       "    <tr>\n",
       "      <th>2</th>\n",
       "      <td>What social platform has influenced your onlin...</td>\n",
       "      <td>Mobile</td>\n",
       "      <td>Global results</td>\n",
       "      <td>Snapchat</td>\n",
       "      <td>86</td>\n",
       "      <td>0.032</td>\n",
       "    </tr>\n",
       "    <tr>\n",
       "      <th>3</th>\n",
       "      <td>What social platform has influenced your onlin...</td>\n",
       "      <td>Mobile</td>\n",
       "      <td>Global results</td>\n",
       "      <td>Twitter</td>\n",
       "      <td>179</td>\n",
       "      <td>0.067</td>\n",
       "    </tr>\n",
       "    <tr>\n",
       "      <th>4</th>\n",
       "      <td>What social platform has influenced your onlin...</td>\n",
       "      <td>Mobile</td>\n",
       "      <td>Global results</td>\n",
       "      <td>Unknown</td>\n",
       "      <td>947</td>\n",
       "      <td>0.354</td>\n",
       "    </tr>\n",
       "    <tr>\n",
       "      <th>5</th>\n",
       "      <td>What social platform has influenced your onlin...</td>\n",
       "      <td>Web</td>\n",
       "      <td>Web</td>\n",
       "      <td>Facebook</td>\n",
       "      <td>0</td>\n",
       "      <td>0.000</td>\n",
       "    </tr>\n",
       "    <tr>\n",
       "      <th>6</th>\n",
       "      <td>What social platform has influenced your onlin...</td>\n",
       "      <td>Web</td>\n",
       "      <td>Web</td>\n",
       "      <td>Instagram</td>\n",
       "      <td>0</td>\n",
       "      <td>0.000</td>\n",
       "    </tr>\n",
       "    <tr>\n",
       "      <th>7</th>\n",
       "      <td>What social platform has influenced your onlin...</td>\n",
       "      <td>Web</td>\n",
       "      <td>Web</td>\n",
       "      <td>Snapchat</td>\n",
       "      <td>0</td>\n",
       "      <td>0.000</td>\n",
       "    </tr>\n",
       "    <tr>\n",
       "      <th>8</th>\n",
       "      <td>What social platform has influenced your onlin...</td>\n",
       "      <td>Web</td>\n",
       "      <td>Web</td>\n",
       "      <td>Twitter</td>\n",
       "      <td>0</td>\n",
       "      <td>0.000</td>\n",
       "    </tr>\n",
       "    <tr>\n",
       "      <th>9</th>\n",
       "      <td>What social platform has influenced your onlin...</td>\n",
       "      <td>Web</td>\n",
       "      <td>Web</td>\n",
       "      <td>Unknown</td>\n",
       "      <td>2</td>\n",
       "      <td>1.000</td>\n",
       "    </tr>\n",
       "  </tbody>\n",
       "</table>\n",
       "</div>"
      ],
      "text/plain": [
       "                                            Question Segment Type  \\\n",
       "0  What social platform has influenced your onlin...       Mobile   \n",
       "1  What social platform has influenced your onlin...       Mobile   \n",
       "2  What social platform has influenced your onlin...       Mobile   \n",
       "3  What social platform has influenced your onlin...       Mobile   \n",
       "4  What social platform has influenced your onlin...       Mobile   \n",
       "5  What social platform has influenced your onlin...          Web   \n",
       "6  What social platform has influenced your onlin...          Web   \n",
       "7  What social platform has influenced your onlin...          Web   \n",
       "8  What social platform has influenced your onlin...          Web   \n",
       "9  What social platform has influenced your onlin...          Web   \n",
       "\n",
       "  Segment Description     Answer  Count  Percentage  \n",
       "0      Global results   Facebook    548       0.205  \n",
       "1      Global results  Instagram    916       0.342  \n",
       "2      Global results   Snapchat     86       0.032  \n",
       "3      Global results    Twitter    179       0.067  \n",
       "4      Global results    Unknown    947       0.354  \n",
       "5                 Web   Facebook      0       0.000  \n",
       "6                 Web  Instagram      0       0.000  \n",
       "7                 Web   Snapchat      0       0.000  \n",
       "8                 Web    Twitter      0       0.000  \n",
       "9                 Web    Unknown      2       1.000  "
      ]
     },
     "execution_count": 8,
     "metadata": {},
     "output_type": "execute_result"
    }
   ],
   "source": [
    "#filter the data as per segment\n",
    "df1 = df.copy()\n",
    "df1[(df1['Segment Type'] == 'Mobile') | (df1['Segment Type'] == 'Web')]"
   ]
  },
  {
   "cell_type": "code",
   "execution_count": 9,
   "id": "fa4c1cec-17f3-4346-aba0-09869466d95c",
   "metadata": {},
   "outputs": [],
   "source": [
    "#sum the counts\n",
    "df1 = df1.groupby('Answer')['Count'].sum().reset_index()"
   ]
  },
  {
   "cell_type": "code",
   "execution_count": 10,
   "id": "b8212e18-0c55-4f8b-9ba8-0430957dd476",
   "metadata": {},
   "outputs": [],
   "source": [
    "df1['total'] = df1['Count'].sum()"
   ]
  },
  {
   "cell_type": "code",
   "execution_count": 11,
   "id": "17a89abd-0d85-4a9a-ad4e-206fd4c9549f",
   "metadata": {},
   "outputs": [],
   "source": [
    "#calculating percentage distribution\n",
    "df1['social_per_dist'] = round(df1['Count']/df1['total']*100,2)"
   ]
  },
  {
   "cell_type": "code",
   "execution_count": 12,
   "id": "d1c969c6-41cc-4857-b335-0dff48f9be66",
   "metadata": {},
   "outputs": [
    {
     "data": {
      "text/html": [
       "<div>\n",
       "<style scoped>\n",
       "    .dataframe tbody tr th:only-of-type {\n",
       "        vertical-align: middle;\n",
       "    }\n",
       "\n",
       "    .dataframe tbody tr th {\n",
       "        vertical-align: top;\n",
       "    }\n",
       "\n",
       "    .dataframe thead th {\n",
       "        text-align: right;\n",
       "    }\n",
       "</style>\n",
       "<table border=\"1\" class=\"dataframe\">\n",
       "  <thead>\n",
       "    <tr style=\"text-align: right;\">\n",
       "      <th></th>\n",
       "      <th>Answer</th>\n",
       "      <th>Count</th>\n",
       "      <th>total</th>\n",
       "      <th>social_per_dist</th>\n",
       "    </tr>\n",
       "  </thead>\n",
       "  <tbody>\n",
       "    <tr>\n",
       "      <th>0</th>\n",
       "      <td>Facebook</td>\n",
       "      <td>10329</td>\n",
       "      <td>50770</td>\n",
       "      <td>20.34</td>\n",
       "    </tr>\n",
       "    <tr>\n",
       "      <th>1</th>\n",
       "      <td>Instagram</td>\n",
       "      <td>16524</td>\n",
       "      <td>50770</td>\n",
       "      <td>32.55</td>\n",
       "    </tr>\n",
       "    <tr>\n",
       "      <th>2</th>\n",
       "      <td>Snapchat</td>\n",
       "      <td>1574</td>\n",
       "      <td>50770</td>\n",
       "      <td>3.10</td>\n",
       "    </tr>\n",
       "    <tr>\n",
       "      <th>3</th>\n",
       "      <td>Twitter</td>\n",
       "      <td>3407</td>\n",
       "      <td>50770</td>\n",
       "      <td>6.71</td>\n",
       "    </tr>\n",
       "    <tr>\n",
       "      <th>4</th>\n",
       "      <td>Unknown</td>\n",
       "      <td>18936</td>\n",
       "      <td>50770</td>\n",
       "      <td>37.30</td>\n",
       "    </tr>\n",
       "  </tbody>\n",
       "</table>\n",
       "</div>"
      ],
      "text/plain": [
       "      Answer  Count  total  social_per_dist\n",
       "0   Facebook  10329  50770            20.34\n",
       "1  Instagram  16524  50770            32.55\n",
       "2   Snapchat   1574  50770             3.10\n",
       "3    Twitter   3407  50770             6.71\n",
       "4    Unknown  18936  50770            37.30"
      ]
     },
     "execution_count": 12,
     "metadata": {},
     "output_type": "execute_result"
    }
   ],
   "source": [
    "df1"
   ]
  },
  {
   "cell_type": "code",
   "execution_count": 13,
   "id": "96dd544a-a713-4c17-b4dd-0eb6fe72a0f3",
   "metadata": {},
   "outputs": [
    {
     "data": {
      "image/png": "[encoded data removed]",
      "text/plain": [
       "<Figure size 640x480 with 1 Axes>"
      ]
     },
     "metadata": {},
     "output_type": "display_data"
    }
   ],
   "source": [
    "# define Seaborn color palette to use \n",
    "palette_color = sns.color_palette('bright') \n",
    "  \n",
    "# plotting data on chart \n",
    "plt.pie(df1['social_per_dist'], labels=df1['Answer'], colors=palette_color, autopct='%.01f%%') \n",
    "  \n",
    "# displaying chart \n",
    "plt.show()"
   ]
  },
  {
   "cell_type": "markdown",
   "id": "654af32c-4436-4392-801a-1cb7cc16d60e",
   "metadata": {},
   "source": [
    "### Which social platform has the highest influence on online shopping overall?"
   ]
  },
  {
   "cell_type": "code",
   "execution_count": 14,
   "id": "2f678f7f-f133-44d0-be89-dd6a9ca4bb17",
   "metadata": {},
   "outputs": [],
   "source": [
    "df2 = df.copy()"
   ]
  },
  {
   "cell_type": "code",
   "execution_count": 15,
   "id": "b65ee7bb-1071-4556-aa0d-fdde6fb278ae",
   "metadata": {},
   "outputs": [],
   "source": [
    "#sum the count based on social platforms\n",
    "new_data = df.groupby('Answer')['Count'].sum().reset_index()"
   ]
  },
  {
   "cell_type": "code",
   "execution_count": 16,
   "id": "cac329ef-2d60-4eff-81c3-e5b3170d8692",
   "metadata": {},
   "outputs": [
    {
     "data": {
      "text/html": [
       "<div>\n",
       "<style scoped>\n",
       "    .dataframe tbody tr th:only-of-type {\n",
       "        vertical-align: middle;\n",
       "    }\n",
       "\n",
       "    .dataframe tbody tr th {\n",
       "        vertical-align: top;\n",
       "    }\n",
       "\n",
       "    .dataframe thead th {\n",
       "        text-align: right;\n",
       "    }\n",
       "</style>\n",
       "<table border=\"1\" class=\"dataframe\">\n",
       "  <thead>\n",
       "    <tr style=\"text-align: right;\">\n",
       "      <th></th>\n",
       "      <th>Answer</th>\n",
       "      <th>Count</th>\n",
       "    </tr>\n",
       "  </thead>\n",
       "  <tbody>\n",
       "    <tr>\n",
       "      <th>4</th>\n",
       "      <td>Unknown</td>\n",
       "      <td>18936</td>\n",
       "    </tr>\n",
       "    <tr>\n",
       "      <th>1</th>\n",
       "      <td>Instagram</td>\n",
       "      <td>16524</td>\n",
       "    </tr>\n",
       "    <tr>\n",
       "      <th>0</th>\n",
       "      <td>Facebook</td>\n",
       "      <td>10329</td>\n",
       "    </tr>\n",
       "    <tr>\n",
       "      <th>3</th>\n",
       "      <td>Twitter</td>\n",
       "      <td>3407</td>\n",
       "    </tr>\n",
       "    <tr>\n",
       "      <th>2</th>\n",
       "      <td>Snapchat</td>\n",
       "      <td>1574</td>\n",
       "    </tr>\n",
       "  </tbody>\n",
       "</table>\n",
       "</div>"
      ],
      "text/plain": [
       "      Answer  Count\n",
       "4    Unknown  18936\n",
       "1  Instagram  16524\n",
       "0   Facebook  10329\n",
       "3    Twitter   3407\n",
       "2   Snapchat   1574"
      ]
     },
     "execution_count": 16,
     "metadata": {},
     "output_type": "execute_result"
    }
   ],
   "source": [
    "#sort the values in ascending order\n",
    "new_data.sort_values(by='Count', ascending=False)"
   ]
  },
  {
   "cell_type": "code",
   "execution_count": 17,
   "id": "adc9b483-f54b-4763-a5d8-993681cb179f",
   "metadata": {},
   "outputs": [
    {
     "data": {
      "image/png": "[encoded data removed]",
      "text/plain": [
       "<Figure size 1000x400 with 1 Axes>"
      ]
     },
     "metadata": {},
     "output_type": "display_data"
    }
   ],
   "source": [
    "#plot the bar chart \n",
    "plt.figure(figsize=(10,4))\n",
    "sns.barplot(new_data, x='Answer', y='Count', hue='Answer', legend=False)\n",
    "plt.show()"
   ]
  },
  {
   "cell_type": "markdown",
   "id": "1deede41-8cb7-4b30-9011-781575d50ddd",
   "metadata": {},
   "source": [
    "### How does the influence of social platforms differ between mobile and web users?"
   ]
  },
  {
   "cell_type": "code",
   "execution_count": 18,
   "id": "0aa7da6e-790b-4a29-a69d-01112b72ef80",
   "metadata": {},
   "outputs": [],
   "source": [
    "df3 = df.copy()"
   ]
  },
  {
   "cell_type": "code",
   "execution_count": 19,
   "id": "7b8bb896-979b-41f6-94d9-77a6667c03ed",
   "metadata": {},
   "outputs": [],
   "source": [
    "##total count by segment\n",
    "users_shoppers = df3.groupby('Segment Type')['Count'].sum().reset_index()"
   ]
  },
  {
   "cell_type": "code",
   "execution_count": 20,
   "id": "3fede360-7ea8-4813-995b-a141769f4c0f",
   "metadata": {},
   "outputs": [
    {
     "data": {
      "text/html": [
       "<div>\n",
       "<style scoped>\n",
       "    .dataframe tbody tr th:only-of-type {\n",
       "        vertical-align: middle;\n",
       "    }\n",
       "\n",
       "    .dataframe tbody tr th {\n",
       "        vertical-align: top;\n",
       "    }\n",
       "\n",
       "    .dataframe thead th {\n",
       "        text-align: right;\n",
       "    }\n",
       "</style>\n",
       "<table border=\"1\" class=\"dataframe\">\n",
       "  <thead>\n",
       "    <tr style=\"text-align: right;\">\n",
       "      <th></th>\n",
       "      <th>Segment Type</th>\n",
       "      <th>Count</th>\n",
       "    </tr>\n",
       "  </thead>\n",
       "  <tbody>\n",
       "    <tr>\n",
       "      <th>0</th>\n",
       "      <td>Custom</td>\n",
       "      <td>43241</td>\n",
       "    </tr>\n",
       "    <tr>\n",
       "      <th>1</th>\n",
       "      <td>Gender</td>\n",
       "      <td>2676</td>\n",
       "    </tr>\n",
       "    <tr>\n",
       "      <th>2</th>\n",
       "      <td>Mobile</td>\n",
       "      <td>2676</td>\n",
       "    </tr>\n",
       "    <tr>\n",
       "      <th>3</th>\n",
       "      <td>University</td>\n",
       "      <td>2175</td>\n",
       "    </tr>\n",
       "    <tr>\n",
       "      <th>4</th>\n",
       "      <td>Web</td>\n",
       "      <td>2</td>\n",
       "    </tr>\n",
       "  </tbody>\n",
       "</table>\n",
       "</div>"
      ],
      "text/plain": [
       "  Segment Type  Count\n",
       "0       Custom  43241\n",
       "1       Gender   2676\n",
       "2       Mobile   2676\n",
       "3   University   2175\n",
       "4          Web      2"
      ]
     },
     "execution_count": 20,
     "metadata": {},
     "output_type": "execute_result"
    }
   ],
   "source": [
    "users_shoppers"
   ]
  },
  {
   "cell_type": "markdown",
   "id": "75d1448c-a7c8-4ac7-8f74-489fb629f94e",
   "metadata": {},
   "source": [
    "People who go for online shopping using mobile = 2676\n",
    "& People who go for online shopping using web = 2"
   ]
  },
  {
   "cell_type": "code",
   "execution_count": 21,
   "id": "20f9fcd0-8e54-49e6-9941-5d2fc1163d66",
   "metadata": {},
   "outputs": [
    {
     "data": {
      "image/png": "[encoded data removed]",
      "text/plain": [
       "<Figure size 1000x400 with 1 Axes>"
      ]
     },
     "metadata": {},
     "output_type": "display_data"
    }
   ],
   "source": [
    "plt.figure(figsize=(10,4))\n",
    "sns.barplot(users_shoppers, x='Segment Type', y='Count', hue='Segment Type', legend=False)\n",
    "plt.show()"
   ]
  },
  {
   "cell_type": "markdown",
   "id": "6c21c7de-7440-43aa-a178-5237d05d826a",
   "metadata": {},
   "source": [
    "### What is the distribution of social platform influence among female and male voters?"
   ]
  },
  {
   "cell_type": "code",
   "execution_count": 22,
   "id": "99fc7bba-bc65-475b-b421-6f1a1283aa30",
   "metadata": {},
   "outputs": [],
   "source": [
    "df4 = df.copy()\n",
    "\n",
    "#filter the data according to gender\n",
    "df4 = df4[(df4['Segment Type'] == 'Gender')]"
   ]
  },
  {
   "cell_type": "code",
   "execution_count": 23,
   "id": "2664eaf1-cc5c-4eb4-8922-7d4d07734da6",
   "metadata": {},
   "outputs": [],
   "source": [
    "#total count for genders\n",
    "gender_data = df4.groupby(['Segment Description', 'Answer'])['Count'].sum().reset_index()"
   ]
  },
  {
   "cell_type": "code",
   "execution_count": 24,
   "id": "418bef6a-da5a-410e-bcde-b34fde4a8034",
   "metadata": {},
   "outputs": [],
   "source": [
    "gen = gender_data.groupby('Segment Description')['Count'].sum().reset_index()"
   ]
  },
  {
   "cell_type": "code",
   "execution_count": 25,
   "id": "6fdeba5b-f354-4609-bfe2-2c097920dcd9",
   "metadata": {},
   "outputs": [],
   "source": [
    "#rename the column name\n",
    "gen.rename(columns={'Count':'gender_total'}, inplace=True)"
   ]
  },
  {
   "cell_type": "code",
   "execution_count": 26,
   "id": "5fe8e085-c53b-48c2-959b-626517a4fdab",
   "metadata": {},
   "outputs": [
    {
     "data": {
      "text/html": [
       "<div>\n",
       "<style scoped>\n",
       "    .dataframe tbody tr th:only-of-type {\n",
       "        vertical-align: middle;\n",
       "    }\n",
       "\n",
       "    .dataframe tbody tr th {\n",
       "        vertical-align: top;\n",
       "    }\n",
       "\n",
       "    .dataframe thead th {\n",
       "        text-align: right;\n",
       "    }\n",
       "</style>\n",
       "<table border=\"1\" class=\"dataframe\">\n",
       "  <thead>\n",
       "    <tr style=\"text-align: right;\">\n",
       "      <th></th>\n",
       "      <th>Segment Description</th>\n",
       "      <th>gender_total</th>\n",
       "    </tr>\n",
       "  </thead>\n",
       "  <tbody>\n",
       "    <tr>\n",
       "      <th>0</th>\n",
       "      <td>Female voters</td>\n",
       "      <td>1114</td>\n",
       "    </tr>\n",
       "    <tr>\n",
       "      <th>1</th>\n",
       "      <td>Male voters</td>\n",
       "      <td>1562</td>\n",
       "    </tr>\n",
       "  </tbody>\n",
       "</table>\n",
       "</div>"
      ],
      "text/plain": [
       "  Segment Description  gender_total\n",
       "0       Female voters          1114\n",
       "1         Male voters          1562"
      ]
     },
     "execution_count": 26,
     "metadata": {},
     "output_type": "execute_result"
    }
   ],
   "source": [
    "gen"
   ]
  },
  {
   "cell_type": "code",
   "execution_count": 27,
   "id": "873695c8-1ef2-4f37-8a73-85ce0643ff74",
   "metadata": {},
   "outputs": [],
   "source": [
    "#join the both dataframes \n",
    "final_data = gender_data.merge(gen, how='inner', on = 'Segment Description')"
   ]
  },
  {
   "cell_type": "code",
   "execution_count": 28,
   "id": "88b41296-4012-4e28-900d-c0333a212257",
   "metadata": {},
   "outputs": [],
   "source": [
    "#calculating the percentage distribution\n",
    "final_data['distribution'] = round(final_data['Count']/final_data['gender_total']*100,2)"
   ]
  },
  {
   "cell_type": "code",
   "execution_count": 29,
   "id": "2f0a475d-8635-43ae-9a7f-a042dd7dab0f",
   "metadata": {},
   "outputs": [
    {
     "data": {
      "text/html": [
       "<div>\n",
       "<style scoped>\n",
       "    .dataframe tbody tr th:only-of-type {\n",
       "        vertical-align: middle;\n",
       "    }\n",
       "\n",
       "    .dataframe tbody tr th {\n",
       "        vertical-align: top;\n",
       "    }\n",
       "\n",
       "    .dataframe thead th {\n",
       "        text-align: right;\n",
       "    }\n",
       "</style>\n",
       "<table border=\"1\" class=\"dataframe\">\n",
       "  <thead>\n",
       "    <tr style=\"text-align: right;\">\n",
       "      <th></th>\n",
       "      <th>Segment Description</th>\n",
       "      <th>Answer</th>\n",
       "      <th>Count</th>\n",
       "      <th>gender_total</th>\n",
       "      <th>distribution</th>\n",
       "    </tr>\n",
       "  </thead>\n",
       "  <tbody>\n",
       "    <tr>\n",
       "      <th>0</th>\n",
       "      <td>Female voters</td>\n",
       "      <td>Facebook</td>\n",
       "      <td>222</td>\n",
       "      <td>1114</td>\n",
       "      <td>19.93</td>\n",
       "    </tr>\n",
       "    <tr>\n",
       "      <th>1</th>\n",
       "      <td>Female voters</td>\n",
       "      <td>Instagram</td>\n",
       "      <td>535</td>\n",
       "      <td>1114</td>\n",
       "      <td>48.03</td>\n",
       "    </tr>\n",
       "    <tr>\n",
       "      <th>2</th>\n",
       "      <td>Female voters</td>\n",
       "      <td>Snapchat</td>\n",
       "      <td>29</td>\n",
       "      <td>1114</td>\n",
       "      <td>2.60</td>\n",
       "    </tr>\n",
       "    <tr>\n",
       "      <th>3</th>\n",
       "      <td>Female voters</td>\n",
       "      <td>Twitter</td>\n",
       "      <td>57</td>\n",
       "      <td>1114</td>\n",
       "      <td>5.12</td>\n",
       "    </tr>\n",
       "    <tr>\n",
       "      <th>4</th>\n",
       "      <td>Female voters</td>\n",
       "      <td>Unknown</td>\n",
       "      <td>271</td>\n",
       "      <td>1114</td>\n",
       "      <td>24.33</td>\n",
       "    </tr>\n",
       "    <tr>\n",
       "      <th>5</th>\n",
       "      <td>Male voters</td>\n",
       "      <td>Facebook</td>\n",
       "      <td>326</td>\n",
       "      <td>1562</td>\n",
       "      <td>20.87</td>\n",
       "    </tr>\n",
       "    <tr>\n",
       "      <th>6</th>\n",
       "      <td>Male voters</td>\n",
       "      <td>Instagram</td>\n",
       "      <td>380</td>\n",
       "      <td>1562</td>\n",
       "      <td>24.33</td>\n",
       "    </tr>\n",
       "    <tr>\n",
       "      <th>7</th>\n",
       "      <td>Male voters</td>\n",
       "      <td>Snapchat</td>\n",
       "      <td>56</td>\n",
       "      <td>1562</td>\n",
       "      <td>3.59</td>\n",
       "    </tr>\n",
       "    <tr>\n",
       "      <th>8</th>\n",
       "      <td>Male voters</td>\n",
       "      <td>Twitter</td>\n",
       "      <td>122</td>\n",
       "      <td>1562</td>\n",
       "      <td>7.81</td>\n",
       "    </tr>\n",
       "    <tr>\n",
       "      <th>9</th>\n",
       "      <td>Male voters</td>\n",
       "      <td>Unknown</td>\n",
       "      <td>678</td>\n",
       "      <td>1562</td>\n",
       "      <td>43.41</td>\n",
       "    </tr>\n",
       "  </tbody>\n",
       "</table>\n",
       "</div>"
      ],
      "text/plain": [
       "  Segment Description     Answer  Count  gender_total  distribution\n",
       "0       Female voters   Facebook    222          1114         19.93\n",
       "1       Female voters  Instagram    535          1114         48.03\n",
       "2       Female voters   Snapchat     29          1114          2.60\n",
       "3       Female voters    Twitter     57          1114          5.12\n",
       "4       Female voters    Unknown    271          1114         24.33\n",
       "5         Male voters   Facebook    326          1562         20.87\n",
       "6         Male voters  Instagram    380          1562         24.33\n",
       "7         Male voters   Snapchat     56          1562          3.59\n",
       "8         Male voters    Twitter    122          1562          7.81\n",
       "9         Male voters    Unknown    678          1562         43.41"
      ]
     },
     "execution_count": 29,
     "metadata": {},
     "output_type": "execute_result"
    }
   ],
   "source": [
    "final_data"
   ]
  },
  {
   "cell_type": "markdown",
   "id": "295104fc-95b6-4c8f-96d3-2fb88dbf050d",
   "metadata": {},
   "source": [
    "In the case of Females, Instgram has influenced a lot(48%). However, in the case of Man, the highest influence came from the Unknown channel(43%)."
   ]
  },
  {
   "cell_type": "code",
   "execution_count": 30,
   "id": "2ab64e0a-8841-4bf1-98ad-347ccd351b38",
   "metadata": {},
   "outputs": [
    {
     "data": {
      "text/plain": [
       "<Axes: xlabel='Answer', ylabel='Count'>"
      ]
     },
     "execution_count": 30,
     "metadata": {},
     "output_type": "execute_result"
    },
    {
     "data": {
      "image/png": "[encoded data removed]",
      "text/plain": [
       "<Figure size 1000x600 with 1 Axes>"
      ]
     },
     "metadata": {},
     "output_type": "display_data"
    }
   ],
   "source": [
    "plt.figure(figsize=(10,6))\n",
    "sns.barplot(final_data, x='Answer', y='Count', hue='Segment Description', legend=True)"
   ]
  },
  {
   "cell_type": "markdown",
   "id": "51b3c3c3-281f-4436-95f2-cdfaa256d222",
   "metadata": {},
   "source": [
    "### Among female voters, which social platform has the highest influence on online shopping?"
   ]
  },
  {
   "cell_type": "markdown",
   "id": "e76a0cc2-a108-44f2-811c-28a97ae600de",
   "metadata": {},
   "source": [
    "Instagram with a total distribution of 48.03%"
   ]
  },
  {
   "cell_type": "markdown",
   "id": "8475cc79-ba18-458a-99a4-f65282038803",
   "metadata": {},
   "source": [
    "### Among male voters, which social platform has the highest influence on online shopping?"
   ]
  },
  {
   "cell_type": "markdown",
   "id": "9b96a8da-bdc7-4599-9158-94b3eb8234b0",
   "metadata": {},
   "source": [
    "Unknown platform with a total distribution of 43.41%"
   ]
  },
  {
   "cell_type": "markdown",
   "id": "23dd3760-8626-4ccd-a86e-3445179656b0",
   "metadata": {},
   "source": [
    "### How does the influence of social platforms vary among different universities?"
   ]
  },
  {
   "cell_type": "code",
   "execution_count": 31,
   "id": "5656fb59-0d34-4e49-9e06-247eed7a51e0",
   "metadata": {},
   "outputs": [],
   "source": [
    "df5 = df.copy()\n",
    "\n",
    "#filter the data based on university and clean the data\n",
    "df5[df5['Segment Type']=='University'].reset_index()\n",
    "df5 = df5[df5['Segment Description'].str.contains('University')]"
   ]
  },
  {
   "cell_type": "code",
   "execution_count": 32,
   "id": "3c7e9ce2-4d52-47bd-a4f9-d327133ecbab",
   "metadata": {},
   "outputs": [],
   "source": [
    "#total count of users\n",
    "final_uni_data = df5.groupby(['Segment Description'])['Count'].sum().reset_index()"
   ]
  },
  {
   "cell_type": "code",
   "execution_count": 33,
   "id": "7bbdcb7c-361f-413d-ae55-6638cada49d3",
   "metadata": {},
   "outputs": [
    {
     "data": {
      "text/html": [
       "<div>\n",
       "<style scoped>\n",
       "    .dataframe tbody tr th:only-of-type {\n",
       "        vertical-align: middle;\n",
       "    }\n",
       "\n",
       "    .dataframe tbody tr th {\n",
       "        vertical-align: top;\n",
       "    }\n",
       "\n",
       "    .dataframe thead th {\n",
       "        text-align: right;\n",
       "    }\n",
       "</style>\n",
       "<table border=\"1\" class=\"dataframe\">\n",
       "  <thead>\n",
       "    <tr style=\"text-align: right;\">\n",
       "      <th></th>\n",
       "      <th>Segment Description</th>\n",
       "      <th>Count</th>\n",
       "    </tr>\n",
       "  </thead>\n",
       "  <tbody>\n",
       "    <tr>\n",
       "      <th>123</th>\n",
       "      <td>University of Virginia</td>\n",
       "      <td>256</td>\n",
       "    </tr>\n",
       "    <tr>\n",
       "      <th>59</th>\n",
       "      <td>San Diego State University</td>\n",
       "      <td>169</td>\n",
       "    </tr>\n",
       "    <tr>\n",
       "      <th>17</th>\n",
       "      <td>Cornell University</td>\n",
       "      <td>122</td>\n",
       "    </tr>\n",
       "    <tr>\n",
       "      <th>49</th>\n",
       "      <td>Northwestern University</td>\n",
       "      <td>115</td>\n",
       "    </tr>\n",
       "    <tr>\n",
       "      <th>127</th>\n",
       "      <td>University of Wisconsin-Madison</td>\n",
       "      <td>103</td>\n",
       "    </tr>\n",
       "    <tr>\n",
       "      <th>...</th>\n",
       "      <td>...</td>\n",
       "      <td>...</td>\n",
       "    </tr>\n",
       "    <tr>\n",
       "      <th>30</th>\n",
       "      <td>Indiana University-Purdue University Indianapolis</td>\n",
       "      <td>1</td>\n",
       "    </tr>\n",
       "    <tr>\n",
       "      <th>81</th>\n",
       "      <td>University of California Riverside</td>\n",
       "      <td>1</td>\n",
       "    </tr>\n",
       "    <tr>\n",
       "      <th>32</th>\n",
       "      <td>James Madison University</td>\n",
       "      <td>1</td>\n",
       "    </tr>\n",
       "    <tr>\n",
       "      <th>34</th>\n",
       "      <td>Kansas State University</td>\n",
       "      <td>1</td>\n",
       "    </tr>\n",
       "    <tr>\n",
       "      <th>136</th>\n",
       "      <td>Wilfred Laurier University</td>\n",
       "      <td>1</td>\n",
       "    </tr>\n",
       "  </tbody>\n",
       "</table>\n",
       "<p>137 rows × 2 columns</p>\n",
       "</div>"
      ],
      "text/plain": [
       "                                   Segment Description  Count\n",
       "123                             University of Virginia    256\n",
       "59                          San Diego State University    169\n",
       "17                                  Cornell University    122\n",
       "49                             Northwestern University    115\n",
       "127                    University of Wisconsin-Madison    103\n",
       "..                                                 ...    ...\n",
       "30   Indiana University-Purdue University Indianapolis      1\n",
       "81                  University of California Riverside      1\n",
       "32                            James Madison University      1\n",
       "34                             Kansas State University      1\n",
       "136                         Wilfred Laurier University      1\n",
       "\n",
       "[137 rows x 2 columns]"
      ]
     },
     "execution_count": 33,
     "metadata": {},
     "output_type": "execute_result"
    }
   ],
   "source": [
    "final_uni_data.sort_values(by='Count', ascending=False)"
   ]
  },
  {
   "cell_type": "markdown",
   "id": "b26eb203-2a66-40ec-8d5e-1efd371a029d",
   "metadata": {},
   "source": [
    "### Is there a significant difference in social platform influence between genders?"
   ]
  },
  {
   "cell_type": "code",
   "execution_count": 34,
   "id": "9e8cb364-97ff-44a0-860b-99f5a7eb9695",
   "metadata": {},
   "outputs": [],
   "source": [
    "df6 = df.copy()"
   ]
  },
  {
   "cell_type": "code",
   "execution_count": 35,
   "id": "fe36b104-50dd-412a-86b6-228a677a5960",
   "metadata": {},
   "outputs": [],
   "source": [
    "#filter to prepare the data for the test\n",
    "df6 = df6[df6['Segment Type'] == 'Gender']\n",
    "df6 = df6[['Segment Description', 'Answer', 'Count']]"
   ]
  },
  {
   "cell_type": "code",
   "execution_count": 36,
   "id": "525b802d-a557-4102-8b37-dce52b763ce3",
   "metadata": {},
   "outputs": [
    {
     "data": {
      "text/html": [
       "<div>\n",
       "<style scoped>\n",
       "    .dataframe tbody tr th:only-of-type {\n",
       "        vertical-align: middle;\n",
       "    }\n",
       "\n",
       "    .dataframe tbody tr th {\n",
       "        vertical-align: top;\n",
       "    }\n",
       "\n",
       "    .dataframe thead th {\n",
       "        text-align: right;\n",
       "    }\n",
       "</style>\n",
       "<table border=\"1\" class=\"dataframe\">\n",
       "  <thead>\n",
       "    <tr style=\"text-align: right;\">\n",
       "      <th>Segment Description</th>\n",
       "      <th>Female voters</th>\n",
       "      <th>Male voters</th>\n",
       "    </tr>\n",
       "    <tr>\n",
       "      <th>Answer</th>\n",
       "      <th></th>\n",
       "      <th></th>\n",
       "    </tr>\n",
       "  </thead>\n",
       "  <tbody>\n",
       "    <tr>\n",
       "      <th>Facebook</th>\n",
       "      <td>222.0</td>\n",
       "      <td>326.0</td>\n",
       "    </tr>\n",
       "    <tr>\n",
       "      <th>Instagram</th>\n",
       "      <td>535.0</td>\n",
       "      <td>380.0</td>\n",
       "    </tr>\n",
       "    <tr>\n",
       "      <th>Snapchat</th>\n",
       "      <td>29.0</td>\n",
       "      <td>56.0</td>\n",
       "    </tr>\n",
       "    <tr>\n",
       "      <th>Twitter</th>\n",
       "      <td>57.0</td>\n",
       "      <td>122.0</td>\n",
       "    </tr>\n",
       "    <tr>\n",
       "      <th>Unknown</th>\n",
       "      <td>271.0</td>\n",
       "      <td>678.0</td>\n",
       "    </tr>\n",
       "  </tbody>\n",
       "</table>\n",
       "</div>"
      ],
      "text/plain": [
       "Segment Description  Female voters  Male voters\n",
       "Answer                                         \n",
       "Facebook                     222.0        326.0\n",
       "Instagram                    535.0        380.0\n",
       "Snapchat                      29.0         56.0\n",
       "Twitter                       57.0        122.0\n",
       "Unknown                      271.0        678.0"
      ]
     },
     "execution_count": 36,
     "metadata": {},
     "output_type": "execute_result"
    }
   ],
   "source": [
    "#create pivot table to make group\n",
    "new_df = pd.pivot_table(df6, values = 'Count', index=['Answer'], columns=['Segment Description'])\n",
    "new_df"
   ]
  },
  {
   "cell_type": "code",
   "execution_count": 37,
   "id": "41801f7f-5bae-4b04-bfda-f58fe5c2147b",
   "metadata": {},
   "outputs": [],
   "source": [
    "#import library\n",
    "from scipy import stats"
   ]
  },
  {
   "cell_type": "markdown",
   "id": "83603763-a9e6-42e3-beb5-a1e6e01364cd",
   "metadata": {},
   "source": [
    "#### Hypothesis:\n",
    "\n",
    "##### Null Hypothesis: There is no difference in social platform influence between gender\n",
    "##### Alternate Hypothesis: There is a significant difference in social platform influence between gender\n",
    "##### significance level alpha = 0.05"
   ]
  },
  {
   "cell_type": "code",
   "execution_count": 38,
   "id": "ce7fdd55-7551-4e58-a496-89e56435c75e",
   "metadata": {},
   "outputs": [],
   "source": [
    "#calculate t statistics and p_value\n",
    "t_stat, p_value = stats.ttest_ind(new_df['Female voters'], new_df['Male voters'])"
   ]
  },
  {
   "cell_type": "code",
   "execution_count": 39,
   "id": "07c4ec40-7790-4cbd-8bac-a30cfb8d45ca",
   "metadata": {},
   "outputs": [
    {
     "data": {
      "text/plain": [
       "(-0.6294488204887816, 0.5466061955905805)"
      ]
     },
     "execution_count": 39,
     "metadata": {},
     "output_type": "execute_result"
    }
   ],
   "source": [
    "t_stat, p_value"
   ]
  },
  {
   "cell_type": "markdown",
   "id": "4729b14b-8e33-4b89-a079-25f510f83c2e",
   "metadata": {},
   "source": [
    "#### Here, the p_value is 0.5466 which is greater than 0.05. In this case, we do not have significant results to reject the null hypothesis. Hence, there is no difference in social platform influence between genders. "
   ]
  },
  {
   "cell_type": "markdown",
   "id": "07e198d8-1621-42e6-b787-11cb0c878e87",
   "metadata": {},
   "source": [
    "### Is there a significant difference in social platform influence between different universities?"
   ]
  },
  {
   "cell_type": "code",
   "execution_count": 40,
   "id": "50c9929e-9093-41d4-83ff-9f987a8fbcff",
   "metadata": {},
   "outputs": [
    {
     "data": {
      "text/html": [
       "<div>\n",
       "<style scoped>\n",
       "    .dataframe tbody tr th:only-of-type {\n",
       "        vertical-align: middle;\n",
       "    }\n",
       "\n",
       "    .dataframe tbody tr th {\n",
       "        vertical-align: top;\n",
       "    }\n",
       "\n",
       "    .dataframe thead th {\n",
       "        text-align: right;\n",
       "    }\n",
       "</style>\n",
       "<table border=\"1\" class=\"dataframe\">\n",
       "  <thead>\n",
       "    <tr style=\"text-align: right;\">\n",
       "      <th>Segment Description</th>\n",
       "      <th>Appalachian State University</th>\n",
       "      <th>Arkansas Tech University</th>\n",
       "      <th>Auburn University</th>\n",
       "      <th>Azusa Pacific University</th>\n",
       "      <th>Baylor University</th>\n",
       "      <th>Binghamtom University</th>\n",
       "      <th>Boise State University</th>\n",
       "      <th>Boston University</th>\n",
       "      <th>Brock University</th>\n",
       "      <th>Butler University</th>\n",
       "      <th>...</th>\n",
       "      <th>University of Wisconsin-Madison</th>\n",
       "      <th>University of Wisconsin-Whitewater</th>\n",
       "      <th>Vanderbilt University</th>\n",
       "      <th>Villanova University</th>\n",
       "      <th>Wake Forest University</th>\n",
       "      <th>Washington State University</th>\n",
       "      <th>Wesleyan University</th>\n",
       "      <th>West Virginia University</th>\n",
       "      <th>Whatsgoodly University</th>\n",
       "      <th>Wilfred Laurier University</th>\n",
       "    </tr>\n",
       "    <tr>\n",
       "      <th>Answer</th>\n",
       "      <th></th>\n",
       "      <th></th>\n",
       "      <th></th>\n",
       "      <th></th>\n",
       "      <th></th>\n",
       "      <th></th>\n",
       "      <th></th>\n",
       "      <th></th>\n",
       "      <th></th>\n",
       "      <th></th>\n",
       "      <th></th>\n",
       "      <th></th>\n",
       "      <th></th>\n",
       "      <th></th>\n",
       "      <th></th>\n",
       "      <th></th>\n",
       "      <th></th>\n",
       "      <th></th>\n",
       "      <th></th>\n",
       "      <th></th>\n",
       "      <th></th>\n",
       "    </tr>\n",
       "  </thead>\n",
       "  <tbody>\n",
       "    <tr>\n",
       "      <th>Facebook</th>\n",
       "      <td>5.0</td>\n",
       "      <td>0.0</td>\n",
       "      <td>0.0</td>\n",
       "      <td>0.0</td>\n",
       "      <td>0.0</td>\n",
       "      <td>0.0</td>\n",
       "      <td>0.0</td>\n",
       "      <td>0.0</td>\n",
       "      <td>0.0</td>\n",
       "      <td>9.0</td>\n",
       "      <td>...</td>\n",
       "      <td>26.0</td>\n",
       "      <td>0.0</td>\n",
       "      <td>15.0</td>\n",
       "      <td>2.0</td>\n",
       "      <td>1.0</td>\n",
       "      <td>0.0</td>\n",
       "      <td>1.0</td>\n",
       "      <td>0.0</td>\n",
       "      <td>0.0</td>\n",
       "      <td>0.0</td>\n",
       "    </tr>\n",
       "    <tr>\n",
       "      <th>Instagram</th>\n",
       "      <td>9.0</td>\n",
       "      <td>0.0</td>\n",
       "      <td>0.0</td>\n",
       "      <td>1.0</td>\n",
       "      <td>0.0</td>\n",
       "      <td>0.0</td>\n",
       "      <td>1.0</td>\n",
       "      <td>1.0</td>\n",
       "      <td>1.0</td>\n",
       "      <td>13.0</td>\n",
       "      <td>...</td>\n",
       "      <td>35.0</td>\n",
       "      <td>0.0</td>\n",
       "      <td>11.0</td>\n",
       "      <td>0.0</td>\n",
       "      <td>0.0</td>\n",
       "      <td>2.0</td>\n",
       "      <td>0.0</td>\n",
       "      <td>0.0</td>\n",
       "      <td>1.0</td>\n",
       "      <td>1.0</td>\n",
       "    </tr>\n",
       "    <tr>\n",
       "      <th>Snapchat</th>\n",
       "      <td>0.0</td>\n",
       "      <td>0.0</td>\n",
       "      <td>0.0</td>\n",
       "      <td>0.0</td>\n",
       "      <td>0.0</td>\n",
       "      <td>0.0</td>\n",
       "      <td>0.0</td>\n",
       "      <td>0.0</td>\n",
       "      <td>0.0</td>\n",
       "      <td>0.0</td>\n",
       "      <td>...</td>\n",
       "      <td>1.0</td>\n",
       "      <td>0.0</td>\n",
       "      <td>1.0</td>\n",
       "      <td>0.0</td>\n",
       "      <td>0.0</td>\n",
       "      <td>0.0</td>\n",
       "      <td>0.0</td>\n",
       "      <td>0.0</td>\n",
       "      <td>0.0</td>\n",
       "      <td>0.0</td>\n",
       "    </tr>\n",
       "    <tr>\n",
       "      <th>Twitter</th>\n",
       "      <td>3.0</td>\n",
       "      <td>0.0</td>\n",
       "      <td>0.0</td>\n",
       "      <td>0.0</td>\n",
       "      <td>0.0</td>\n",
       "      <td>0.0</td>\n",
       "      <td>0.0</td>\n",
       "      <td>0.0</td>\n",
       "      <td>0.0</td>\n",
       "      <td>5.0</td>\n",
       "      <td>...</td>\n",
       "      <td>7.0</td>\n",
       "      <td>1.0</td>\n",
       "      <td>0.0</td>\n",
       "      <td>0.0</td>\n",
       "      <td>0.0</td>\n",
       "      <td>0.0</td>\n",
       "      <td>0.0</td>\n",
       "      <td>0.0</td>\n",
       "      <td>0.0</td>\n",
       "      <td>0.0</td>\n",
       "    </tr>\n",
       "    <tr>\n",
       "      <th>Unknown</th>\n",
       "      <td>12.0</td>\n",
       "      <td>1.0</td>\n",
       "      <td>4.0</td>\n",
       "      <td>0.0</td>\n",
       "      <td>1.0</td>\n",
       "      <td>1.0</td>\n",
       "      <td>0.0</td>\n",
       "      <td>0.0</td>\n",
       "      <td>0.0</td>\n",
       "      <td>6.0</td>\n",
       "      <td>...</td>\n",
       "      <td>34.0</td>\n",
       "      <td>0.0</td>\n",
       "      <td>13.0</td>\n",
       "      <td>0.0</td>\n",
       "      <td>0.0</td>\n",
       "      <td>0.0</td>\n",
       "      <td>0.0</td>\n",
       "      <td>2.0</td>\n",
       "      <td>0.0</td>\n",
       "      <td>0.0</td>\n",
       "    </tr>\n",
       "  </tbody>\n",
       "</table>\n",
       "<p>5 rows × 137 columns</p>\n",
       "</div>"
      ],
      "text/plain": [
       "Segment Description  Appalachian State University  Arkansas Tech University   \\\n",
       "Answer                                                                         \n",
       "Facebook                                      5.0                        0.0   \n",
       "Instagram                                     9.0                        0.0   \n",
       "Snapchat                                      0.0                        0.0   \n",
       "Twitter                                       3.0                        0.0   \n",
       "Unknown                                      12.0                        1.0   \n",
       "\n",
       "Segment Description  Auburn University  Azusa Pacific University  \\\n",
       "Answer                                                             \n",
       "Facebook                           0.0                       0.0   \n",
       "Instagram                          0.0                       1.0   \n",
       "Snapchat                           0.0                       0.0   \n",
       "Twitter                            0.0                       0.0   \n",
       "Unknown                            4.0                       0.0   \n",
       "\n",
       "Segment Description  Baylor University  Binghamtom University  \\\n",
       "Answer                                                          \n",
       "Facebook                           0.0                    0.0   \n",
       "Instagram                          0.0                    0.0   \n",
       "Snapchat                           0.0                    0.0   \n",
       "Twitter                            0.0                    0.0   \n",
       "Unknown                            1.0                    1.0   \n",
       "\n",
       "Segment Description  Boise State University  Boston University  \\\n",
       "Answer                                                           \n",
       "Facebook                                0.0                0.0   \n",
       "Instagram                               1.0                1.0   \n",
       "Snapchat                                0.0                0.0   \n",
       "Twitter                                 0.0                0.0   \n",
       "Unknown                                 0.0                0.0   \n",
       "\n",
       "Segment Description  Brock University  Butler University  ...  \\\n",
       "Answer                                                    ...   \n",
       "Facebook                          0.0                9.0  ...   \n",
       "Instagram                         1.0               13.0  ...   \n",
       "Snapchat                          0.0                0.0  ...   \n",
       "Twitter                           0.0                5.0  ...   \n",
       "Unknown                           0.0                6.0  ...   \n",
       "\n",
       "Segment Description  University of Wisconsin-Madison  \\\n",
       "Answer                                                 \n",
       "Facebook                                        26.0   \n",
       "Instagram                                       35.0   \n",
       "Snapchat                                         1.0   \n",
       "Twitter                                          7.0   \n",
       "Unknown                                         34.0   \n",
       "\n",
       "Segment Description  University of Wisconsin-Whitewater  \\\n",
       "Answer                                                    \n",
       "Facebook                                            0.0   \n",
       "Instagram                                           0.0   \n",
       "Snapchat                                            0.0   \n",
       "Twitter                                             1.0   \n",
       "Unknown                                             0.0   \n",
       "\n",
       "Segment Description  Vanderbilt University  Villanova University  \\\n",
       "Answer                                                             \n",
       "Facebook                              15.0                   2.0   \n",
       "Instagram                             11.0                   0.0   \n",
       "Snapchat                               1.0                   0.0   \n",
       "Twitter                                0.0                   0.0   \n",
       "Unknown                               13.0                   0.0   \n",
       "\n",
       "Segment Description  Wake Forest University  Washington State University  \\\n",
       "Answer                                                                     \n",
       "Facebook                                1.0                          0.0   \n",
       "Instagram                               0.0                          2.0   \n",
       "Snapchat                                0.0                          0.0   \n",
       "Twitter                                 0.0                          0.0   \n",
       "Unknown                                 0.0                          0.0   \n",
       "\n",
       "Segment Description  Wesleyan University  West Virginia University   \\\n",
       "Answer                                                                \n",
       "Facebook                             1.0                        0.0   \n",
       "Instagram                            0.0                        0.0   \n",
       "Snapchat                             0.0                        0.0   \n",
       "Twitter                              0.0                        0.0   \n",
       "Unknown                              0.0                        2.0   \n",
       "\n",
       "Segment Description  Whatsgoodly University  Wilfred Laurier University  \n",
       "Answer                                                                   \n",
       "Facebook                                0.0                         0.0  \n",
       "Instagram                               1.0                         1.0  \n",
       "Snapchat                                0.0                         0.0  \n",
       "Twitter                                 0.0                         0.0  \n",
       "Unknown                                 0.0                         0.0  \n",
       "\n",
       "[5 rows x 137 columns]"
      ]
     },
     "execution_count": 40,
     "metadata": {},
     "output_type": "execute_result"
    }
   ],
   "source": [
    "#creating pivot table\n",
    "uni_data = pd.pivot_table(df5, values='Count', index=['Answer'], columns=['Segment Description'])\n",
    "uni_data"
   ]
  },
  {
   "cell_type": "markdown",
   "id": "843d4050-f9f8-49ca-a14c-fd85d9a1d6d7",
   "metadata": {},
   "source": [
    "#### Hypothesis:\n",
    "\n",
    "##### Null Hypothesis: There is no difference in social platform influence between different universities\n",
    "##### Alternate Hypothesis: There is difference in social platform influence between different universities\n",
    "##### significance level alpha = 0.05"
   ]
  },
  {
   "cell_type": "code",
   "execution_count": 41,
   "id": "f8186666-4856-490c-b6f5-ca0f8b2bc27d",
   "metadata": {},
   "outputs": [
    {
     "name": "stdout",
     "output_type": "stream",
     "text": [
      "F Statistic: 6.680458811805088\n",
      "P-value: 1.3304237992358585e-58\n",
      "Reject the null hypothesis. There are significant differences in social platform influence between universities.\n"
     ]
    }
   ],
   "source": [
    "# Perform ANOVA test\n",
    "f_statistic, p_value = stats.f_oneway(*[uni_data[col] for col in uni_data.columns])\n",
    "\n",
    "print(\"F Statistic:\", f_statistic)\n",
    "print(\"P-value:\", p_value)\n",
    "\n",
    "# Interpret the result\n",
    "alpha = 0.05\n",
    "if p_value < alpha:\n",
    "    print(\"Reject the null hypothesis. There are significant differences in social platform influence between universities.\")\n",
    "else:\n",
    "    print(\"Fail to reject the null hypothesis. There are no significant differences in social platform influence between universities.\")"
   ]
  },
  {
   "cell_type": "code",
   "execution_count": null,
   "id": "e2abc2b1-1e58-4813-add5-19d96e0a4e37",
   "metadata": {},
   "outputs": [],
   "source": []
  }
 ],
 "metadata": {
  "kernelspec": {
   "display_name": "Python 3 (ipykernel)",
   "language": "python",
   "name": "python3"
  },
  "language_info": {
   "codemirror_mode": {
    "name": "ipython",
    "version": 3
   },
   "file_extension": ".py",
   "mimetype": "text/x-python",
   "name": "python",
   "nbconvert_exporter": "python",
   "pygments_lexer": "ipython3",
   "version": "3.12.1"
  }
 },
 "nbformat": 4,
 "nbformat_minor": 5
}
